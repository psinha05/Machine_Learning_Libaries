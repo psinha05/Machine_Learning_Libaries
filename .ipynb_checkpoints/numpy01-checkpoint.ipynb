{
 "cells": [
  {
   "cell_type": "markdown",
   "id": "d223da06",
   "metadata": {},
   "source": [
    "   # Numpy Examples "
   ]
  },
  {
   "cell_type": "code",
   "execution_count": 1,
   "id": "5cc0bf2b",
   "metadata": {},
   "outputs": [],
   "source": [
    "#  numpy example"
   ]
  },
  {
   "cell_type": "code",
   "execution_count": 6,
   "id": "0bcb07cc",
   "metadata": {},
   "outputs": [
    {
     "name": "stdout",
     "output_type": "stream",
     "text": [
      "1\n",
      "2\n",
      "3\n"
     ]
    }
   ],
   "source": [
    "import numpy as np \n",
    "x= np.array([1, 2, 3])\n",
    "print(x[0])\n",
    "# print('\\n')\n",
    "\n",
    "print(x[1])\n",
    "\n",
    "print(x[2])\n",
    "\n",
    "# print(x[5]) : index error, out of bounds for axis 0"
   ]
  },
  {
   "cell_type": "code",
   "execution_count": 3,
   "id": "e9f619a7",
   "metadata": {},
   "outputs": [
    {
     "name": "stdout",
     "output_type": "stream",
     "text": [
      "<class 'numpy.ndarray'>\n"
     ]
    }
   ],
   "source": [
    "a= np.array([1, 2, 3])\n",
    "print(type(a))"
   ]
  },
  {
   "cell_type": "code",
   "execution_count": 2,
   "id": "66daa981",
   "metadata": {},
   "outputs": [
    {
     "name": "stdout",
     "output_type": "stream",
     "text": [
      "<class 'numpy.ndarray'>\n"
     ]
    }
   ],
   "source": [
    "x= np.array([[1, 2, 3], [4, 5, 6]])\n",
    "\n",
    "print(type(x))"
   ]
  },
  {
   "cell_type": "code",
   "execution_count": 7,
   "id": "57b095e4",
   "metadata": {},
   "outputs": [
    {
     "name": "stdout",
     "output_type": "stream",
     "text": [
      "[4 5 6]\n",
      "[7 8 9]\n"
     ]
    }
   ],
   "source": [
    "x= np.array([[1, 2, 3], [4,5, 6], [7, 8, 9]])\n",
    "print(x[1])\n",
    "print(x[2])"
   ]
  },
  {
   "cell_type": "code",
   "execution_count": 8,
   "id": "9cc27f36",
   "metadata": {},
   "outputs": [
    {
     "name": "stdout",
     "output_type": "stream",
     "text": [
      "[7]\n"
     ]
    }
   ],
   "source": [
    "import pandas as pd\n",
    "import numpy as np \n",
    "import matplotlib as plt\n",
    "\n",
    "a1= np.array([3])\n",
    "a2 = np.array([4])\n",
    "print(a1+a2)"
   ]
  },
  {
   "cell_type": "code",
   "execution_count": 9,
   "id": "f2139abc",
   "metadata": {},
   "outputs": [
    {
     "name": "stdout",
     "output_type": "stream",
     "text": [
      "[5 7 9]\n"
     ]
    }
   ],
   "source": [
    "a3= np.array([1, 2, 3])\n",
    "a4 = np.array([4, 5, 6])\n",
    "print(a3+a4)"
   ]
  },
  {
   "cell_type": "code",
   "execution_count": 10,
   "id": "1fdae0f0",
   "metadata": {},
   "outputs": [
    {
     "name": "stdout",
     "output_type": "stream",
     "text": [
      "[-3 -3 -3]\n"
     ]
    }
   ],
   "source": [
    "a3= np.array([1, 2, 3])\n",
    "a4 = np.array([4, 5, 6])\n",
    "print(a3-a4)"
   ]
  },
  {
   "cell_type": "code",
   "execution_count": 11,
   "id": "3fa1514c",
   "metadata": {},
   "outputs": [
    {
     "name": "stdout",
     "output_type": "stream",
     "text": [
      "[ 4 10 18]\n"
     ]
    }
   ],
   "source": [
    "a3= np.array([1, 2, 3])\n",
    "a4 = np.array([4, 5, 6])\n",
    "print(a3*a4)"
   ]
  },
  {
   "cell_type": "code",
   "execution_count": 13,
   "id": "33c73b93-2134-4073-83f4-69e383e2343e",
   "metadata": {},
   "outputs": [
    {
     "data": {
      "text/plain": [
       "array([1., 2., 3.])"
      ]
     },
     "execution_count": 13,
     "metadata": {},
     "output_type": "execute_result"
    }
   ],
   "source": [
    "# to convert int to float\n",
    "\n",
    "myarr = np.array([1, 2, 3], float)\n",
    "myarr"
   ]
  },
  {
   "cell_type": "code",
   "execution_count": 16,
   "id": "0ba3be80",
   "metadata": {},
   "outputs": [
    {
     "data": {
      "text/plain": [
       "array([[1, 2, 3],\n",
       "       [4, 5, 6]])"
      ]
     },
     "execution_count": 16,
     "metadata": {},
     "output_type": "execute_result"
    }
   ],
   "source": [
    "arr1 = np.array([[1,2,3],[4, 5, 6]])\n",
    "arr1\n",
    "\n",
    "# print(type(arr1))   #  <class 'numpy.ndarray'>"
   ]
  },
  {
   "cell_type": "code",
   "execution_count": 22,
   "id": "6371e715",
   "metadata": {},
   "outputs": [
    {
     "data": {
      "text/plain": [
       "array([[0., 0., 0.],\n",
       "       [0., 0., 0.]])"
      ]
     },
     "execution_count": 22,
     "metadata": {},
     "output_type": "execute_result"
    }
   ],
   "source": [
    "# numpy array size (2*3) with zeros \n",
    "arr2 =np.zeros((2, 3))\n",
    "arr2"
   ]
  },
  {
   "cell_type": "code",
   "execution_count": 24,
   "id": "1b81cdbd",
   "metadata": {},
   "outputs": [
    {
     "data": {
      "text/plain": [
       "array([[1, 1, 1],\n",
       "       [1, 1, 1],\n",
       "       [1, 1, 1]])"
      ]
     },
     "execution_count": 24,
     "metadata": {},
     "output_type": "execute_result"
    }
   ],
   "source": [
    "# numpy dimensions of (3*3) with one's \n",
    "arr3 = np.ones((3, 3), int)\n",
    "arr3"
   ]
  },
  {
   "cell_type": "code",
   "execution_count": 25,
   "id": "3d359d06-6d2c-4b8b-9494-9e97c91a441d",
   "metadata": {},
   "outputs": [
    {
     "data": {
      "text/plain": [
       "array([[1., 1., 1., 1.],\n",
       "       [1., 1., 1., 1.],\n",
       "       [1., 1., 1., 1.],\n",
       "       [1., 1., 1., 1.]])"
      ]
     },
     "execution_count": 25,
     "metadata": {},
     "output_type": "execute_result"
    }
   ],
   "source": [
    "arr_ones = np.ones((4, 4), float)\n",
    "arr_ones"
   ]
  },
  {
   "cell_type": "code",
   "execution_count": 13,
   "id": "6eed20e1",
   "metadata": {},
   "outputs": [
    {
     "data": {
      "text/plain": [
       "array([[1., 0., 0., 0., 0.],\n",
       "       [0., 1., 0., 0., 0.],\n",
       "       [0., 0., 1., 0., 0.],\n",
       "       [0., 0., 0., 1., 0.],\n",
       "       [0., 0., 0., 0., 1.]])"
      ]
     },
     "execution_count": 13,
     "metadata": {},
     "output_type": "execute_result"
    }
   ],
   "source": [
    "# np.identity(n) function creates an n x n identity matrix — a square matrix with 1's on the main diagonal and 0's elsewhere\n",
    "arr4 = np.identity(5)\n",
    "arr4"
   ]
  },
  {
   "cell_type": "code",
   "execution_count": 26,
   "id": "2f936388-b08c-42d6-bd9a-35d33468f2fc",
   "metadata": {
    "scrolled": true
   },
   "outputs": [
    {
     "data": {
      "text/plain": [
       "array([[5, 5, 5, 5],\n",
       "       [5, 5, 5, 5],\n",
       "       [5, 5, 5, 5]])"
      ]
     },
     "execution_count": 26,
     "metadata": {},
     "output_type": "execute_result"
    }
   ],
   "source": [
    "arr01 = np.full((3, 4), 5)    #  3 rows, 4 columns member element is 5\n",
    "arr01"
   ]
  },
  {
   "cell_type": "code",
   "execution_count": 30,
   "id": "ffee950f-32bb-4e5c-aa97-1fa95d6a2497",
   "metadata": {},
   "outputs": [
    {
     "name": "stdout",
     "output_type": "stream",
     "text": [
      "[[3.14 3.14 3.14]\n",
      " [3.14 3.14 3.14]\n",
      " [3.14 3.14 3.14]]\n"
     ]
    }
   ],
   "source": [
    "# np.full() : it will creates a new array of specified type, filled with specified values.\n",
    "# np.full(shape, fill_value, dtype=None, order='C'), order (optional): memory layout, 'C' for row-major, 'F' for column-major.\n",
    "\n",
    "np_full = np.full((3, 3), 3.14, float)   #  3 * 3 scaler = 3.14, dtype= float\n",
    "print(np_full)"
   ]
  },
  {
   "cell_type": "code",
   "execution_count": 47,
   "id": "225dd7cb",
   "metadata": {},
   "outputs": [
    {
     "data": {
      "text/plain": [
       "array([0, 1, 2, 3, 4, 5, 6, 7, 8, 9])"
      ]
     },
     "execution_count": 47,
     "metadata": {},
     "output_type": "execute_result"
    }
   ],
   "source": [
    "# same as for range in python\n",
    "# np.arange([start, ]stop, [step, ]dtype=None)\n",
    "\n",
    "arr5 = np.arange(10)\n",
    "arr5"
   ]
  },
  {
   "cell_type": "code",
   "execution_count": 48,
   "id": "0e714101",
   "metadata": {},
   "outputs": [
    {
     "data": {
      "text/plain": [
       "array([ 5,  7,  9, 11, 13, 15])"
      ]
     },
     "execution_count": 48,
     "metadata": {},
     "output_type": "execute_result"
    }
   ],
   "source": [
    "arr6 = np.arange(5, 16, 2)\n",
    "arr6"
   ]
  },
  {
   "cell_type": "code",
   "execution_count": 49,
   "id": "c9fda7ae-671a-4ae1-bdbc-c46de1d4ca3c",
   "metadata": {},
   "outputs": [
    {
     "name": "stdout",
     "output_type": "stream",
     "text": [
      "[ 1.  4.  7. 10. 13. 16. 19. 22. 25. 28.]\n"
     ]
    }
   ],
   "source": [
    "# to introduce an float type \n",
    "\n",
    "np_arange = np.arange(1, 30, 3, dtype= float)\n",
    "print(np_arange)"
   ]
  },
  {
   "cell_type": "code",
   "execution_count": 50,
   "id": "5165905e",
   "metadata": {},
   "outputs": [
    {
     "data": {
      "text/plain": [
       "array([10.        , 11.11111111, 12.22222222, 13.33333333, 14.44444444,\n",
       "       15.55555556, 16.66666667, 17.77777778, 18.88888889, 20.        ])"
      ]
     },
     "execution_count": 50,
     "metadata": {},
     "output_type": "execute_result"
    }
   ],
   "source": [
    "# linespace between the given no's 10-20, each having the same distance (11.1111111-10.0000000)\n",
    "#  to create evenly spaced numbers over a specified interval.\n",
    "#  np.linspace(start, stop, num=50, endpoint=True, retstep=False, dtype=None)\n",
    "\n",
    "arr7 = np.linspace(10, 20, 10)\n",
    "arr7"
   ]
  },
  {
   "cell_type": "code",
   "execution_count": 51,
   "id": "51c595cc-a9bf-4a90-813a-7feb5b6acbdc",
   "metadata": {},
   "outputs": [
    {
     "name": "stdout",
     "output_type": "stream",
     "text": [
      "[0.   0.25 0.5  0.75 1.  ]\n"
     ]
    }
   ],
   "source": [
    "#  This creates 5 numbers evenly spaced between 0 and 1 (including both ends).\n",
    "lspace = np.linspace(0, 1, 5)\n",
    "print(lspace)"
   ]
  },
  {
   "cell_type": "code",
   "execution_count": 52,
   "id": "d8e04d8e-6e45-4dda-aba0-c6fec7020920",
   "metadata": {},
   "outputs": [
    {
     "name": "stdout",
     "output_type": "stream",
     "text": [
      "Array: [0.   0.25 0.5  0.75 1.  ]\n",
      "Step size: 0.25\n"
     ]
    }
   ],
   "source": [
    "arr, step = np.linspace(0, 1, 5, retstep=True)\n",
    "print(\"Array:\", arr)\n",
    "print(\"Step size:\", step)"
   ]
  },
  {
   "cell_type": "code",
   "execution_count": 53,
   "id": "5ff75946",
   "metadata": {},
   "outputs": [
    {
     "data": {
      "text/plain": [
       "array([10.        , 11.11111111, 12.22222222, 13.33333333, 14.44444444,\n",
       "       15.55555556, 16.66666667, 17.77777778, 18.88888889, 20.        ])"
      ]
     },
     "execution_count": 53,
     "metadata": {},
     "output_type": "execute_result"
    }
   ],
   "source": [
    "# to copy any numpy arrays\n",
    "arr8 = arr7.copy()\n",
    "arr8"
   ]
  },
  {
   "cell_type": "code",
   "execution_count": null,
   "id": "694ce130-8c01-4295-8309-fa61f9c6fe63",
   "metadata": {},
   "outputs": [],
   "source": []
  },
  {
   "cell_type": "code",
   "execution_count": null,
   "id": "aeed99cb-be85-4fef-86f8-08721701b45e",
   "metadata": {},
   "outputs": [],
   "source": []
  },
  {
   "cell_type": "code",
   "execution_count": 54,
   "id": "c2d52da4",
   "metadata": {},
   "outputs": [
    {
     "data": {
      "text/plain": [
       "array([[0., 0., 0.],\n",
       "       [0., 0., 0.]])"
      ]
     },
     "execution_count": 54,
     "metadata": {},
     "output_type": "execute_result"
    }
   ],
   "source": [
    "arr2"
   ]
  },
  {
   "cell_type": "markdown",
   "id": "241e3dd8",
   "metadata": {},
   "source": [
    "# Numpy Properties &  Attributes "
   ]
  },
  {
   "cell_type": "code",
   "execution_count": 55,
   "id": "fd705fb9",
   "metadata": {},
   "outputs": [
    {
     "data": {
      "text/plain": [
       "(2, 3)"
      ]
     },
     "execution_count": 55,
     "metadata": {},
     "output_type": "execute_result"
    }
   ],
   "source": [
    "# shape of the matrix dimension\n",
    "arr2.shape"
   ]
  },
  {
   "cell_type": "code",
   "execution_count": 56,
   "id": "6dba8a2b-19af-46ae-8575-507cc25a9b00",
   "metadata": {},
   "outputs": [
    {
     "data": {
      "text/plain": [
       "array([10.        , 11.11111111, 12.22222222, 13.33333333, 14.44444444,\n",
       "       15.55555556, 16.66666667, 17.77777778, 18.88888889, 20.        ])"
      ]
     },
     "execution_count": 56,
     "metadata": {},
     "output_type": "execute_result"
    }
   ],
   "source": [
    "arr7"
   ]
  },
  {
   "cell_type": "code",
   "execution_count": 57,
   "id": "971ff79e",
   "metadata": {},
   "outputs": [
    {
     "data": {
      "text/plain": [
       "(10,)"
      ]
     },
     "execution_count": 57,
     "metadata": {},
     "output_type": "execute_result"
    }
   ],
   "source": [
    "arr7.shape"
   ]
  },
  {
   "cell_type": "code",
   "execution_count": 58,
   "id": "3ad21391",
   "metadata": {},
   "outputs": [
    {
     "data": {
      "text/plain": [
       "array([[[1, 2],\n",
       "        [3, 4]],\n",
       "\n",
       "       [[5, 6],\n",
       "        [7, 8]]])"
      ]
     },
     "execution_count": 58,
     "metadata": {},
     "output_type": "execute_result"
    }
   ],
   "source": [
    "arr9 = np.array([ [[1,2],[3,4]], [[5,6],[7,8]] ])\n",
    "arr9"
   ]
  },
  {
   "cell_type": "code",
   "execution_count": 59,
   "id": "8d2880c2",
   "metadata": {},
   "outputs": [
    {
     "data": {
      "text/plain": [
       "(2, 2, 2)"
      ]
     },
     "execution_count": 59,
     "metadata": {},
     "output_type": "execute_result"
    }
   ],
   "source": [
    "#  NumPy array has a shape of (2, 2, 2), it means the array is 3-dimensional with these dimensions:\n",
    "#  a \"cube\" or a stack of 2 matrices, where: There are 2 blocks, Each block is a 2x2 matrix.\n",
    "\n",
    "arr9.shape"
   ]
  },
  {
   "cell_type": "code",
   "execution_count": 63,
   "id": "68963204",
   "metadata": {},
   "outputs": [
    {
     "data": {
      "text/plain": [
       "3"
      ]
     },
     "execution_count": 63,
     "metadata": {},
     "output_type": "execute_result"
    }
   ],
   "source": [
    "# 3 dimensional matrix \n",
    "arr9.ndim"
   ]
  },
  {
   "cell_type": "code",
   "execution_count": 64,
   "id": "60322130-cdea-4e3b-838a-7a9a5459b0d1",
   "metadata": {},
   "outputs": [
    {
     "data": {
      "text/plain": [
       "array([[1, 2],\n",
       "       [3, 4]])"
      ]
     },
     "execution_count": 64,
     "metadata": {},
     "output_type": "execute_result"
    }
   ],
   "source": [
    "arr9[0]"
   ]
  },
  {
   "cell_type": "code",
   "execution_count": 65,
   "id": "ce0a2d25-9f39-42b3-afa1-73592f4ea6ec",
   "metadata": {},
   "outputs": [
    {
     "data": {
      "text/plain": [
       "array([[5, 6],\n",
       "       [7, 8]])"
      ]
     },
     "execution_count": 65,
     "metadata": {},
     "output_type": "execute_result"
    }
   ],
   "source": [
    "arr9[1]"
   ]
  },
  {
   "cell_type": "code",
   "execution_count": 66,
   "id": "d77afad1",
   "metadata": {},
   "outputs": [
    {
     "data": {
      "text/plain": [
       "array([[0., 0., 0.],\n",
       "       [0., 0., 0.]])"
      ]
     },
     "execution_count": 66,
     "metadata": {},
     "output_type": "execute_result"
    }
   ],
   "source": [
    "arr2"
   ]
  },
  {
   "cell_type": "code",
   "execution_count": 67,
   "id": "fc9b6c18",
   "metadata": {},
   "outputs": [
    {
     "data": {
      "text/plain": [
       "2"
      ]
     },
     "execution_count": 67,
     "metadata": {},
     "output_type": "execute_result"
    }
   ],
   "source": [
    "# 2 dim matrix \n",
    "arr2.ndim"
   ]
  },
  {
   "cell_type": "code",
   "execution_count": 69,
   "id": "adf106c3",
   "metadata": {},
   "outputs": [
    {
     "data": {
      "text/plain": [
       "6"
      ]
     },
     "execution_count": 69,
     "metadata": {},
     "output_type": "execute_result"
    }
   ],
   "source": [
    "# size : Number of elements in the array.\n",
    "arr2.size"
   ]
  },
  {
   "cell_type": "code",
   "execution_count": 70,
   "id": "03eab3d1",
   "metadata": {},
   "outputs": [
    {
     "data": {
      "text/plain": [
       "8"
      ]
     },
     "execution_count": 70,
     "metadata": {},
     "output_type": "execute_result"
    }
   ],
   "source": [
    "arr9.size"
   ]
  },
  {
   "cell_type": "code",
   "execution_count": 71,
   "id": "5ed38b9a",
   "metadata": {},
   "outputs": [
    {
     "data": {
      "text/plain": [
       "8"
      ]
     },
     "execution_count": 71,
     "metadata": {},
     "output_type": "execute_result"
    }
   ],
   "source": [
    "# itemsize : Length of one array element in bytes.\n",
    "# itemsize is an attribute of an array that tells you the size (in bytes) of each element in the array.\n",
    "\n",
    "arr2.itemsize"
   ]
  },
  {
   "cell_type": "code",
   "execution_count": 72,
   "id": "548632dd",
   "metadata": {},
   "outputs": [
    {
     "data": {
      "text/plain": [
       "8"
      ]
     },
     "execution_count": 72,
     "metadata": {},
     "output_type": "execute_result"
    }
   ],
   "source": [
    "arr9.itemsize"
   ]
  },
  {
   "cell_type": "code",
   "execution_count": 76,
   "id": "aacd469b",
   "metadata": {},
   "outputs": [
    {
     "data": {
      "text/plain": [
       "dtype('float64')"
      ]
     },
     "execution_count": 76,
     "metadata": {},
     "output_type": "execute_result"
    }
   ],
   "source": [
    "# dtype: data type of the elemenst\n",
    "arr2.dtype"
   ]
  },
  {
   "cell_type": "code",
   "execution_count": 77,
   "id": "21b3638d",
   "metadata": {},
   "outputs": [
    {
     "data": {
      "text/plain": [
       "dtype('int64')"
      ]
     },
     "execution_count": 77,
     "metadata": {},
     "output_type": "execute_result"
    }
   ],
   "source": [
    "arr9.dtype"
   ]
  },
  {
   "cell_type": "code",
   "execution_count": 78,
   "id": "e3700ce6",
   "metadata": {},
   "outputs": [
    {
     "data": {
      "text/plain": [
       "array([[0., 0., 0.],\n",
       "       [0., 0., 0.]])"
      ]
     },
     "execution_count": 78,
     "metadata": {},
     "output_type": "execute_result"
    }
   ],
   "source": [
    "# conversion of data types\n",
    "arr2.astype('float')"
   ]
  },
  {
   "cell_type": "code",
   "execution_count": 81,
   "id": "8069ca1c-57a6-4dc6-89bd-8308d2199f99",
   "metadata": {},
   "outputs": [
    {
     "name": "stdout",
     "output_type": "stream",
     "text": [
      "float64\n"
     ]
    }
   ],
   "source": [
    "print(arr2.dtype)"
   ]
  },
  {
   "cell_type": "markdown",
   "id": "3ae3a571",
   "metadata": {},
   "source": [
    "#  Dimensions in numpy  "
   ]
  },
  {
   "cell_type": "code",
   "execution_count": 85,
   "id": "d818978e",
   "metadata": {},
   "outputs": [
    {
     "name": "stdout",
     "output_type": "stream",
     "text": [
      "42\n"
     ]
    }
   ],
   "source": [
    "# 0 - d array: A dimension in arrays is one level of array depth (nested arrays).\n",
    "\n",
    "import numpy as np\n",
    "\n",
    "arr10 = np.array(42)\n",
    "print(arr10)"
   ]
  },
  {
   "cell_type": "code",
   "execution_count": 86,
   "id": "d661b7e3",
   "metadata": {},
   "outputs": [
    {
     "name": "stdout",
     "output_type": "stream",
     "text": [
      "[1 2 3 5 8 9]\n"
     ]
    }
   ],
   "source": [
    "# 1 -D array\n",
    "\n",
    "import numpy as np\n",
    "\n",
    "arr11 = np.array([1, 2, 3, 5, 8, 9])\n",
    "print(arr11)"
   ]
  },
  {
   "cell_type": "code",
   "execution_count": 87,
   "id": "58de9998",
   "metadata": {},
   "outputs": [
    {
     "name": "stdout",
     "output_type": "stream",
     "text": [
      "[[1 2 3]\n",
      " [4 5 6]]\n",
      "<class 'numpy.ndarray'>\n"
     ]
    }
   ],
   "source": [
    "#  2 - D array, Create a 2-D array containing two arrays with the values 1,2,3 and 4,5,6\n",
    "import numpy as np\n",
    "\n",
    "arr12 = np.array([[1, 2, 3],[4, 5, 6]])\n",
    "print(arr12)\n",
    "\n",
    "print(type(arr12))"
   ]
  },
  {
   "cell_type": "code",
   "execution_count": 88,
   "id": "3eaf0454",
   "metadata": {},
   "outputs": [
    {
     "name": "stdout",
     "output_type": "stream",
     "text": [
      "[[[1 2 3]\n",
      "  [4 5 6]]\n",
      "\n",
      " [[1 2 3]\n",
      "  [4 5 6]]]\n",
      "\n",
      "\n",
      "<class 'numpy.ndarray'>\n"
     ]
    }
   ],
   "source": [
    "# 3 - D array, An array that has 2-D arrays (matrices) as its elements is called 3-D array. \n",
    "import numpy as np\n",
    "\n",
    "arr13 = np.array([[[1, 2, 3], [4, 5, 6]], [[1, 2, 3], [4, 5, 6]]])\n",
    "print(arr13)\n",
    "\n",
    "print(\"\\n\")\n",
    "\n",
    "print(type(arr13))"
   ]
  },
  {
   "cell_type": "code",
   "execution_count": 92,
   "id": "7c261c9d-a25a-4078-b940-21a8034204b7",
   "metadata": {},
   "outputs": [
    {
     "data": {
      "text/plain": [
       "(2, 2, 3)"
      ]
     },
     "execution_count": 92,
     "metadata": {},
     "output_type": "execute_result"
    }
   ],
   "source": [
    "# 2 blocks each having the 2 rows and 3 columns \n",
    "arr13.shape"
   ]
  },
  {
   "cell_type": "code",
   "execution_count": 93,
   "id": "4ca80530-78f0-46c8-ae8e-2562b2d090aa",
   "metadata": {},
   "outputs": [
    {
     "data": {
      "text/plain": [
       "3"
      ]
     },
     "execution_count": 93,
     "metadata": {},
     "output_type": "execute_result"
    }
   ],
   "source": [
    "# n-dim matrix\n",
    "\n",
    "arr13.ndim"
   ]
  },
  {
   "cell_type": "code",
   "execution_count": 94,
   "id": "e9c63248",
   "metadata": {},
   "outputs": [
    {
     "name": "stdout",
     "output_type": "stream",
     "text": [
      "0\n",
      "1\n",
      "2\n",
      "3\n"
     ]
    }
   ],
   "source": [
    "# to check the number of dimensions, ndim attribute that returns an integer that tells us how many dimensions the array have.\n",
    "\n",
    "import numpy as np\n",
    "\n",
    "a = np.array(42)\n",
    "b = np.array([1, 2, 3, 4, 5])\n",
    "c = np.array([[1, 2, 3], [4, 5, 6]])\n",
    "d = np.array([[[1, 2, 3], [4, 5, 6]], [[1, 2, 3], [4, 5, 6]]])\n",
    "\n",
    "print(a.ndim)\n",
    "print(b.ndim)\n",
    "print(c.ndim)\n",
    "print(d.ndim) "
   ]
  },
  {
   "cell_type": "code",
   "execution_count": 95,
   "id": "40cb08ad",
   "metadata": {},
   "outputs": [
    {
     "name": "stdout",
     "output_type": "stream",
     "text": [
      "[[[[[1 2 3 4]]]]]\n",
      "\n",
      "\n",
      "To print the dimensions of the array:  5\n"
     ]
    }
   ],
   "source": [
    "# Higher Dimensional Arrays, to define the number of dimensions by using the ndmin argument\n",
    "\n",
    "import numpy as np\n",
    "\n",
    "arr14 = np.array([1, 2, 3, 4], ndmin = 5)\n",
    "\n",
    "print(arr14)\n",
    "\n",
    "print(\"\\n\")\n",
    "print(\"To print the dimensions of the array: \", arr14.ndim)"
   ]
  },
  {
   "cell_type": "markdown",
   "id": "e7bf5522-ffd2-4b1c-903a-284df611e337",
   "metadata": {},
   "source": [
    "# To identify the dimension of the array\n",
    "\n",
    "Each pair of brackets adds a dimension:\n",
    "\n",
    "1). 1 2 3 4 — this is a 1D array with 4 elements. Wrapping it in one set of brackets: [[1 2 3 4]] → shape (1, 4)\n",
    "2). Another bracket: [[[1 2 3 4]]] → shape (1, 1, 4)\n",
    "3). Another: [[[[1 2 3 4]]]] → shape (1, 1, 1, 4)\n",
    "4). And one more: [[[[[1 2 3 4]]]]] → shape (1, 1, 1, 1, 4)"
   ]
  },
  {
   "cell_type": "code",
   "execution_count": 99,
   "id": "4616a581",
   "metadata": {},
   "outputs": [
    {
     "name": "stdout",
     "output_type": "stream",
     "text": [
      "2\n"
     ]
    }
   ],
   "source": [
    "# Numpy arraay Indexing, same as accessing array. access an array element by referring to its index number(starts with 0,1..)\n",
    "\n",
    "# to access the second array elements, arr[0] : as the first element \n",
    "\n",
    "import numpy as np\n",
    "\n",
    "arr = np.array([1, 2, 3, 4])\n",
    "\n",
    "print(arr[1]) "
   ]
  },
  {
   "cell_type": "code",
   "execution_count": 100,
   "id": "2bd63d74",
   "metadata": {},
   "outputs": [
    {
     "name": "stdout",
     "output_type": "stream",
     "text": [
      "7\n"
     ]
    }
   ],
   "source": [
    "# to add the 2 & 3rd elements\n",
    "\n",
    "import numpy as np\n",
    "\n",
    "arr = np.array([1, 2, 3, 4])\n",
    "\n",
    "print(arr[2] + arr[3]) "
   ]
  },
  {
   "cell_type": "code",
   "execution_count": 101,
   "id": "1641779c",
   "metadata": {},
   "outputs": [
    {
     "name": "stdout",
     "output_type": "stream",
     "text": [
      "2nd element on 1st row:  2\n",
      "\n",
      "\n",
      "4th element on 1st row:  5\n",
      "\n",
      "\n",
      "2nd element on 2nd row:  8\n",
      "\n",
      "\n",
      "4th element on 2nd row:  10\n"
     ]
    }
   ],
   "source": [
    "# To access the  2-D arrays, \n",
    "# 2-D arrays like a table with rows and columns, where the dimension represents the row and the index represents the column.\n",
    "\n",
    "import numpy as np\n",
    "\n",
    "arr = np.array([[1,2,3,4,5], [6,7,8,9,10]])\n",
    "\n",
    "print('2nd element on 1st row: ', arr[0, 1])\n",
    "print(\"\\n\")\n",
    "\n",
    "# expect 5\n",
    "print('4th element on 1st row: ', arr[0, 4])\n",
    "print(\"\\n\")\n",
    "\n",
    "# expect 8\n",
    "print('2nd element on 2nd row: ', arr[1, 2])\n",
    "print(\"\\n\")\n",
    "\n",
    "# expect 10 \n",
    "print('4th element on 2nd row: ', arr[1, 4])"
   ]
  },
  {
   "cell_type": "code",
   "execution_count": 50,
   "id": "90c885cd",
   "metadata": {
    "scrolled": true
   },
   "outputs": [
    {
     "name": "stdout",
     "output_type": "stream",
     "text": [
      "6\n"
     ]
    }
   ],
   "source": [
    "# Access the 3-D arrays, use comma separated integers representing the dimensions and the index of the element\n",
    "\n",
    "import numpy as np\n",
    "\n",
    "arr = np.array([[[1, 2, 3], [4, 5, 6]], [[7, 8, 9], [10, 11, 12]]])\n",
    "\n",
    "print(arr[0, 1, 2]) "
   ]
  },
  {
   "cell_type": "markdown",
   "id": "4f2e9a2a",
   "metadata": {},
   "source": [
    "Example Explained: arr[0, 1, 2] prints the value 6.\n",
    "\n",
    "And this is why:\n",
    "The first number represents the first dimension, which contains two arrays:\n",
    "[[1, 2, 3], [4, 5, 6]]  and:  [[7, 8, 9], [10, 11, 12]]\n",
    "Since we selected 0, we are left with the first array:\n",
    "[[1, 2, 3], [4, 5, 6]]\n",
    "\n",
    "The second number represents the second dimension, which also contains two arrays:\n",
    "[1, 2, 3]  and: [4, 5, 6]\n",
    "Since we selected 1, we are left with the second array: [4, 5, 6]\n",
    "\n",
    "The third number represents the third dimension, which contains three values: 4 5 6 \n",
    "Since we selected 2, we end up with the third value: 6"
   ]
  },
  {
   "cell_type": "code",
   "execution_count": 102,
   "id": "3581eac6",
   "metadata": {},
   "outputs": [
    {
     "name": "stdout",
     "output_type": "stream",
     "text": [
      "[2 4]\n"
     ]
    }
   ],
   "source": [
    "#  Numpy array slicing, result includes the start index, but excludes the end index (start, end, steps)\n",
    "import numpy as np\n",
    "\n",
    "arr = np.array([1, 2, 3, 4, 5, 6, 7])\n",
    "\n",
    "print(arr[1:5:2]) \n"
   ]
  },
  {
   "cell_type": "code",
   "execution_count": 103,
   "id": "4d520537",
   "metadata": {},
   "outputs": [
    {
     "name": "stdout",
     "output_type": "stream",
     "text": [
      "[5 6]\n"
     ]
    }
   ],
   "source": [
    "# Use the minus operator to refer to an index from the end(-1, also end not included. -3, means start and -1 end, but -1 excluded)\n",
    "import numpy as np\n",
    "\n",
    "arr = np.array([1, 2, 3, 4, 5, 6, 7])\n",
    "\n",
    "print(arr[-3:-1]) "
   ]
  },
  {
   "cell_type": "code",
   "execution_count": 104,
   "id": "e32b1268",
   "metadata": {},
   "outputs": [
    {
     "name": "stdout",
     "output_type": "stream",
     "text": [
      "\n",
      "\n",
      "[7 8 9]\n"
     ]
    }
   ],
   "source": [
    "# Slicing 2 - D arrays, From the second element, slice elements from index 1 to index 4 (not included):\n",
    "# 2-D arrays, 0 & 1, so it picked 2nd array(6-10) and slicing the elements from 1-4, but 4 excluded.\n",
    "\n",
    "import numpy as np\n",
    "\n",
    "arr = np.array([[1, 2, 3, 4, 5], [6, 7, 8, 9, 10]])\n",
    "\n",
    "arr.ndim\n",
    "\n",
    "print(\"\\n\")\n",
    "\n",
    "print(arr[1, 1:4]) "
   ]
  },
  {
   "cell_type": "code",
   "execution_count": 61,
   "id": "90b430f7",
   "metadata": {},
   "outputs": [
    {
     "name": "stdout",
     "output_type": "stream",
     "text": [
      "[3 8]\n"
     ]
    }
   ],
   "source": [
    "# from both the elements, returns index 2 (0-2, arrays, and choosed the 2nd elements from each arrays)\n",
    "# arr[0:2, 2] means: 0:2 selects rows 0 and 1 (since the end index 2 is exclusive), 2 selects the element at column index 2\n",
    "\n",
    "import numpy as np\n",
    "\n",
    "arr = np.array([[1, 2, 3, 4, 5], [6, 7, 8, 9, 10]])\n",
    "\n",
    "print(arr[0:2, 2]) "
   ]
  },
  {
   "cell_type": "code",
   "execution_count": 106,
   "id": "0a299d57",
   "metadata": {},
   "outputs": [
    {
     "name": "stdout",
     "output_type": "stream",
     "text": [
      "[[2 3 4]\n",
      " [7 8 9]]\n"
     ]
    }
   ],
   "source": [
    "# From both elements, slice index 1 to index 4 (not included), this will return a 2-D array:\n",
    "import numpy as np\n",
    "\n",
    "arr = np.array([[1, 2, 3, 4, 5], [6, 7, 8, 9, 10]])\n",
    "\n",
    "# print(arr[0:1, 1:4])     # select only from 1st rows and then elements from 1 to 4(exclusive)\n",
    "\n",
    "print(arr[0:2, 1:4])       # both rows 0 and 1(inclusive), and then 1:4 index positions elements(exclusive)"
   ]
  },
  {
   "cell_type": "markdown",
   "id": "99914b3b",
   "metadata": {},
   "source": [
    "Data Types in NumPy\n",
    "\n",
    "NumPy has some extra data types, and refer to data types with one character, like i for integers, u for unsigned integers etc.\n",
    "\n",
    "Below is a list of all data types in NumPy and the characters used to represent them.\n",
    "\n",
    "    i - integer\n",
    "    b - boolean\n",
    "    u - unsigned integer\n",
    "    f - float\n",
    "    c - complex float\n",
    "    m - timedelta\n",
    "    M - datetime\n",
    "    O - object\n",
    "    S - string\n",
    "    U - unicode string\n",
    "    V - fixed chunk of memory for other type ( void )\n",
    "\n",
    "\n",
    "**String (S dtype)\n",
    "Represented as numpy.string_ or dtype starting with 'S'. Stores byte strings (8-bit ASCII or raw bytes).\n",
    "Fixed-length byte sequences. Mainly for ASCII or binary data.\n",
    "\n",
    "Example dtype: S10 — string of max length 10 bytes. Does not support Unicode characters beyond ASCII.\n",
    "\n",
    "2. Unicode String (U dtype)\n",
    "Represented as numpy.unicode_ or dtype starting with 'U'. Stores Unicode characters using 4 bytes per character internally (UTF-32).\n",
    "Fixed-length Unicode strings. Supports all Unicode characters (e.g., emoji, accented letters, non-Latin scripts).\n",
    "\n",
    "Example dtype: U10 — Unicode string of max length 10 characters.\n",
    "\n",
    "Important notes:\n",
    "When working with text data involving non-ASCII characters, use Unicode (U).\n",
    "Byte strings (S) are mostly legacy or for raw byte data.\n",
    "Unicode strings consume more memory (4 bytes per char)."
   ]
  },
  {
   "cell_type": "code",
   "execution_count": 63,
   "id": "1a56a5ff",
   "metadata": {},
   "outputs": [
    {
     "name": "stdout",
     "output_type": "stream",
     "text": [
      "int32\n"
     ]
    }
   ],
   "source": [
    "#  dtype: NumPy array object has a property called dtype that returns the data type of the array:\n",
    "\n",
    "import numpy as np\n",
    "\n",
    "arr = np.array([1, 2, 3, 4])\n",
    "\n",
    "print(arr.dtype) "
   ]
  },
  {
   "cell_type": "code",
   "execution_count": 64,
   "id": "b11db8c4",
   "metadata": {},
   "outputs": [
    {
     "name": "stdout",
     "output_type": "stream",
     "text": [
      "<U6\n"
     ]
    }
   ],
   "source": [
    "# string type\n",
    "\n",
    "import numpy as np\n",
    "\n",
    "arr = np.array(['apple', 'banana', 'cherry'])\n",
    "\n",
    "print(arr.dtype) "
   ]
  },
  {
   "cell_type": "code",
   "execution_count": 107,
   "id": "528baed5-07f9-4e23-b036-61de9561a6dd",
   "metadata": {},
   "outputs": [
    {
     "name": "stdout",
     "output_type": "stream",
     "text": [
      "<U6\n"
     ]
    }
   ],
   "source": [
    "arrt = np.array([\"Apple\", \"Banana\", \"Cherry\", \"Mango\", \"Orange\"])\n",
    "\n",
    "print(arrt.dtype)"
   ]
  },
  {
   "cell_type": "code",
   "execution_count": 109,
   "id": "87b35c0e",
   "metadata": {},
   "outputs": [
    {
     "name": "stdout",
     "output_type": "stream",
     "text": [
      "[b'1' b'2' b'3' b'4']\n",
      "|S1\n"
     ]
    }
   ],
   "source": [
    "# defined data type\n",
    "#  dtype='S' means: store elements as byte strings. The array is given Python integers [1, 2, 3, 4].\n",
    "#  NumPy will convert each integer to its byte string representation. For integers, NumPy converts them to strings of their digits, \n",
    "#  then encodes as bytes.\n",
    "\n",
    "import numpy as np\n",
    "\n",
    "arr = np.array([1, 2, 3, 4], dtype='S')\n",
    "\n",
    "print(arr)\n",
    "print(arr.dtype) "
   ]
  },
  {
   "cell_type": "code",
   "execution_count": 110,
   "id": "d2c54b8b",
   "metadata": {},
   "outputs": [
    {
     "name": "stdout",
     "output_type": "stream",
     "text": [
      "[1 2 3 4]\n",
      "int32\n"
     ]
    }
   ],
   "source": [
    "import numpy as np\n",
    "\n",
    "arr = np.array([1, 2, 3, 4], dtype='i4')\n",
    "\n",
    "print(arr)\n",
    "print(arr.dtype) "
   ]
  },
  {
   "cell_type": "code",
   "execution_count": 112,
   "id": "d8741f49",
   "metadata": {},
   "outputs": [
    {
     "ename": "ValueError",
     "evalue": "invalid literal for int() with base 10: 'a'",
     "output_type": "error",
     "traceback": [
      "\u001b[1;31m---------------------------------------------------------------------------\u001b[0m",
      "\u001b[1;31mValueError\u001b[0m                                Traceback (most recent call last)",
      "Cell \u001b[1;32mIn[112], line 9\u001b[0m\n\u001b[0;32m      1\u001b[0m \u001b[38;5;66;03m#  If a type is given in which elements can't be casted then NumPy will raise a ValueError.\u001b[39;00m\n\u001b[0;32m      2\u001b[0m \n\u001b[0;32m      3\u001b[0m \u001b[38;5;66;03m# ValueError: In Python ValueError is raised when the type of passed argument to a function is unexpected/incorrect.\u001b[39;00m\n\u001b[0;32m      4\u001b[0m \u001b[38;5;66;03m# to create an integer ('i') array from the strings 'a', '2', and '3'. '2' and '3' can be converted to integers 2 and 3.\u001b[39;00m\n\u001b[0;32m      5\u001b[0m \u001b[38;5;66;03m#  But 'a' cannot be converted to an integer — it's not a valid numeric string.\u001b[39;00m\n\u001b[0;32m      7\u001b[0m \u001b[38;5;28;01mimport\u001b[39;00m \u001b[38;5;21;01mnumpy\u001b[39;00m \u001b[38;5;28;01mas\u001b[39;00m \u001b[38;5;21;01mnp\u001b[39;00m\n\u001b[1;32m----> 9\u001b[0m arr \u001b[38;5;241m=\u001b[39m \u001b[43mnp\u001b[49m\u001b[38;5;241;43m.\u001b[39;49m\u001b[43marray\u001b[49m\u001b[43m(\u001b[49m\u001b[43m[\u001b[49m\u001b[38;5;124;43m'\u001b[39;49m\u001b[38;5;124;43ma\u001b[39;49m\u001b[38;5;124;43m'\u001b[39;49m\u001b[43m,\u001b[49m\u001b[43m \u001b[49m\u001b[38;5;124;43m'\u001b[39;49m\u001b[38;5;124;43m2\u001b[39;49m\u001b[38;5;124;43m'\u001b[39;49m\u001b[43m,\u001b[49m\u001b[43m \u001b[49m\u001b[38;5;124;43m'\u001b[39;49m\u001b[38;5;124;43m3\u001b[39;49m\u001b[38;5;124;43m'\u001b[39;49m\u001b[43m]\u001b[49m\u001b[43m,\u001b[49m\u001b[43m \u001b[49m\u001b[43mdtype\u001b[49m\u001b[38;5;241;43m=\u001b[39;49m\u001b[38;5;124;43m'\u001b[39;49m\u001b[38;5;124;43mi\u001b[39;49m\u001b[38;5;124;43m'\u001b[39;49m\u001b[43m)\u001b[49m \n",
      "\u001b[1;31mValueError\u001b[0m: invalid literal for int() with base 10: 'a'"
     ]
    }
   ],
   "source": [
    "#  If a type is given in which elements can't be casted then NumPy will raise a ValueError.\n",
    "\n",
    "# ValueError: In Python ValueError is raised when the type of passed argument to a function is unexpected/incorrect.\n",
    "# to create an integer ('i') array from the strings 'a', '2', and '3'. '2' and '3' can be converted to integers 2 and 3.\n",
    "#  But 'a' cannot be converted to an integer — it's not a valid numeric string.\n",
    "\n",
    "import numpy as np\n",
    "\n",
    "arr = np.array(['a', '2', '3'], dtype='i') \n"
   ]
  },
  {
   "cell_type": "code",
   "execution_count": 113,
   "id": "925ab1b2",
   "metadata": {},
   "outputs": [
    {
     "name": "stdout",
     "output_type": "stream",
     "text": [
      "[1 2 3]\n",
      "int32\n"
     ]
    }
   ],
   "source": [
    "#  Converting Data Type on Existing Arrays\n",
    "# The best way to change the data type of an existing array, is to make a copy of the array with the astype() method.\n",
    "# Change data type from float to integer by using 'i' as parameter value:\n",
    "\n",
    "import numpy as np\n",
    "\n",
    "arr = np.array([1.1, 2.1, 3.1])\n",
    "\n",
    "newarr = arr.astype('i')\n",
    "\n",
    "print(newarr)\n",
    "print(newarr.dtype) "
   ]
  },
  {
   "cell_type": "code",
   "execution_count": 114,
   "id": "d6ab04fb",
   "metadata": {},
   "outputs": [
    {
     "name": "stdout",
     "output_type": "stream",
     "text": [
      "[ True False  True]\n",
      "bool\n"
     ]
    }
   ],
   "source": [
    "#  Change data type from integer to boolean:\n",
    "import numpy as np\n",
    "\n",
    "arr = np.array([1, 0, 3])\n",
    "\n",
    "newarr = arr.astype(bool)\n",
    "\n",
    "print(newarr)\n",
    "print(newarr.dtype) "
   ]
  },
  {
   "cell_type": "markdown",
   "id": "1d81e503",
   "metadata": {},
   "source": [
    "* NumPy Array Copy vs View\n",
    "\n",
    "**The Difference Between Copy and View\n",
    "\n",
    "**The main difference between a copy and a view of an array is that the copy is a new array, and the view is just a view of the original array.\n",
    "\n",
    "The copy owns the data and any changes made to the copy will not affect original array, and any changes made to the original array will not affect the copy.\n",
    "\n",
    "The view does not own the data and any changes made to the view will affect the original array, and any changes made to the original array will affect the view."
   ]
  },
  {
   "cell_type": "code",
   "execution_count": 115,
   "id": "adff424d",
   "metadata": {},
   "outputs": [
    {
     "name": "stdout",
     "output_type": "stream",
     "text": [
      "[42  2  3  4  5]\n",
      "[1 2 3 4 5]\n"
     ]
    }
   ],
   "source": [
    "# Make a copy, change the original array, and display both arrays, copy should not affected the changes made to the original array.\n",
    "import numpy as np\n",
    "\n",
    "arr = np.array([1, 2, 3, 4, 5])\n",
    "x = arr.copy()\n",
    "arr[0] = 42\n",
    "\n",
    "print(arr)\n",
    "print(x) "
   ]
  },
  {
   "cell_type": "code",
   "execution_count": 116,
   "id": "7a2ca003",
   "metadata": {},
   "outputs": [
    {
     "name": "stdout",
     "output_type": "stream",
     "text": [
      "[42  2  3  4  5]\n",
      "[42  2  3  4  5]\n"
     ]
    }
   ],
   "source": [
    "#  Make a view, change the original array, and display both arrays, view SHOULD be affected by the changes made to the original array.\n",
    "import numpy as np\n",
    "\n",
    "arr = np.array([1, 2, 3, 4, 5])\n",
    "x = arr.view()\n",
    "arr[0] = 42\n",
    "\n",
    "print(arr)\n",
    "print(x) "
   ]
  },
  {
   "cell_type": "markdown",
   "id": "3ddd9815",
   "metadata": {},
   "source": [
    "* Numpy reshaaping arrays\n",
    "\n",
    "**Reshaping arrays :\n",
    "Reshaping means changing the shape of an array.\n",
    "The shape of an array is the number of elements in each dimension.\n",
    "By reshaping we can add or remove dimensions or change number of elements in each dimension."
   ]
  },
  {
   "cell_type": "code",
   "execution_count": 117,
   "id": "c397da07",
   "metadata": {},
   "outputs": [
    {
     "name": "stdout",
     "output_type": "stream",
     "text": [
      "[[[ 1  2]\n",
      "  [ 3  4]\n",
      "  [ 5  6]]\n",
      "\n",
      " [[ 7  8]\n",
      "  [ 9 10]\n",
      "  [11 12]]]\n"
     ]
    }
   ],
   "source": [
    "# Reshaping the arraay from 1-D to 3-D \n",
    "# Convert the following 1-D array with 12 elements into a 3-D array.\n",
    "#  The outermost dimension will have 2 arrays that contains 3 arrays, each with 2 elements:\n",
    "\n",
    "import numpy as np\n",
    "\n",
    "arr = np.array([1, 2, 3, 4, 5, 6, 7, 8, 9, 10, 11, 12])\n",
    "\n",
    "newarr = arr.reshape(2, 3, 2)\n",
    "\n",
    "print(newarr) "
   ]
  },
  {
   "cell_type": "code",
   "execution_count": 118,
   "id": "b64d122d",
   "metadata": {},
   "outputs": [
    {
     "name": "stdout",
     "output_type": "stream",
     "text": [
      "[1 2 3]\n",
      "[4 5 6]\n"
     ]
    }
   ],
   "source": [
    "#  Iterate on the elements of the following 2-D array:\n",
    "import numpy as np\n",
    "\n",
    "arr = np.array([[1, 2, 3], [4, 5, 6]])\n",
    "\n",
    "for x in arr:\n",
    "  print(x) "
   ]
  },
  {
   "cell_type": "code",
   "execution_count": 119,
   "id": "3ff8bb11",
   "metadata": {},
   "outputs": [
    {
     "name": "stdout",
     "output_type": "stream",
     "text": [
      "[1 2 3 4 5 6]\n"
     ]
    }
   ],
   "source": [
    "#Joining numpy arrays : a sequence of arrays that we want to join to the concatenate() function, along with the axis. \n",
    "# If axis is not explicitly passed, it is taken as 0.\n",
    "\n",
    "import numpy as np\n",
    "\n",
    "arr1 = np.array([1, 2, 3])\n",
    "\n",
    "arr2 = np.array([4, 5, 6])\n",
    "\n",
    "arr = np.concatenate((arr1, arr2))\n",
    "\n",
    "print(arr) "
   ]
  },
  {
   "cell_type": "code",
   "execution_count": 122,
   "id": "4a33c2dd-84f5-43bc-8777-601d045ed50e",
   "metadata": {},
   "outputs": [
    {
     "name": "stdout",
     "output_type": "stream",
     "text": [
      "[[1 4]\n",
      " [2 5]\n",
      " [3 6]]\n"
     ]
    }
   ],
   "source": [
    "# concatenate columns wise \n",
    "\n",
    "arr_1 = np.array([1, 2, 3])\n",
    "arr_2 = np.array([4, 5, 6])\n",
    "final_arr = np.concatenate((arr_1.reshape(-1, 1), arr_2.reshape(-1, 1)), axis=1)\n",
    "print(final_arr)"
   ]
  },
  {
   "cell_type": "code",
   "execution_count": 123,
   "id": "438812e9",
   "metadata": {},
   "outputs": [
    {
     "name": "stdout",
     "output_type": "stream",
     "text": [
      "[[1 2 5 6]\n",
      " [3 4 7 8]]\n"
     ]
    }
   ],
   "source": [
    "#  Join two 2-D arrays along rows (axis=1):\n",
    "import numpy as np\n",
    "\n",
    "arr1 = np.array([[1, 2], [3, 4]])\n",
    "\n",
    "arr2 = np.array([[5, 6], [7, 8]])\n",
    "\n",
    "arr = np.concatenate((arr1, arr2), axis=1)\n",
    "\n",
    "print(arr) "
   ]
  },
  {
   "cell_type": "code",
   "execution_count": 125,
   "id": "26af82dd",
   "metadata": {},
   "outputs": [
    {
     "name": "stdout",
     "output_type": "stream",
     "text": [
      "[array([1, 2]), array([3, 4]), array([5, 6])]\n"
     ]
    }
   ],
   "source": [
    "# Split the array in 3 parts:\n",
    "import numpy as np\n",
    "\n",
    "arr = np.array([1, 2, 3, 4, 5, 6])\n",
    "\n",
    "newarr = np.array_split(arr, 3)\n",
    "\n",
    "print(newarr) "
   ]
  },
  {
   "cell_type": "code",
   "execution_count": 126,
   "id": "c5304949-467d-4079-bb74-a714610ad788",
   "metadata": {},
   "outputs": [
    {
     "name": "stdout",
     "output_type": "stream",
     "text": [
      "[array([1, 2, 3]), array([4, 5, 6]), array([7, 8])]\n"
     ]
    }
   ],
   "source": [
    "import numpy as np\n",
    "\n",
    "arr = np.array([1, 2, 3, 4, 5, 6, 7, 8])\n",
    "\n",
    "newarr1 = np.array_split(arr, 3)\n",
    "\n",
    "print(newarr1) "
   ]
  },
  {
   "cell_type": "code",
   "execution_count": 128,
   "id": "5ff4d71a",
   "metadata": {},
   "outputs": [
    {
     "name": "stdout",
     "output_type": "stream",
     "text": [
      "   calories  duration\n",
      "0       420        50\n",
      "1       380        40\n",
      "2       390        45\n"
     ]
    }
   ],
   "source": [
    "import pandas as pd\n",
    "\n",
    "data = {\n",
    "  \"calories\": [420, 380, 390],\n",
    "  \"duration\": [50, 40, 45]\n",
    "}\n",
    "\n",
    "#load data into a DataFrame object:\n",
    "df = pd.DataFrame(data)\n",
    "\n",
    "print(df) "
   ]
  },
  {
   "cell_type": "code",
   "execution_count": 129,
   "id": "38b2e67f",
   "metadata": {},
   "outputs": [
    {
     "name": "stdout",
     "output_type": "stream",
     "text": [
      "   calories  duration\n",
      "0       420        50\n",
      "1       380        40\n"
     ]
    }
   ],
   "source": [
    "print(df.loc[[0, 1]])"
   ]
  },
  {
   "cell_type": "code",
   "execution_count": 130,
   "id": "d0e6cabc",
   "metadata": {},
   "outputs": [
    {
     "name": "stdout",
     "output_type": "stream",
     "text": [
      "      calories  duration\n",
      "day1       420        50\n",
      "day2       380        40\n",
      "day3       390        45\n"
     ]
    }
   ],
   "source": [
    "import pandas as pd\n",
    "\n",
    "data = {\n",
    "  \"calories\": [420, 380, 390],\n",
    "  \"duration\": [50, 40, 45]\n",
    "}\n",
    "\n",
    "df = pd.DataFrame(data, index = [\"day1\", \"day2\", \"day3\"])\n",
    "\n",
    "print(df) "
   ]
  },
  {
   "cell_type": "code",
   "execution_count": 131,
   "id": "42aaf072",
   "metadata": {},
   "outputs": [
    {
     "name": "stdout",
     "output_type": "stream",
     "text": [
      "calories    380\n",
      "duration     40\n",
      "Name: day2, dtype: int64\n"
     ]
    }
   ],
   "source": [
    "# refer to the named index:\n",
    "print(df.loc[\"day2\"])"
   ]
  },
  {
   "cell_type": "markdown",
   "id": "f1a78913",
   "metadata": {},
   "source": [
    "# Lists ~ Arrays\n",
    "\n",
    "1. Faster\n",
    "2. Convenient\n",
    "3. Less Memory"
   ]
  },
  {
   "cell_type": "code",
   "execution_count": 132,
   "id": "9cf159cf",
   "metadata": {},
   "outputs": [
    {
     "name": "stdout",
     "output_type": "stream",
     "text": [
      "For list: 2800\n",
      "\n",
      "\n",
      "For Array: 800\n"
     ]
    }
   ],
   "source": [
    "import sys\n",
    "import numpy as np \n",
    "\n",
    "lista = range(100)\n",
    "arr15 = np.arange(100)\n",
    "\n",
    "print(\"For list:\", sys.getsizeof(87)*len(lista))\n",
    "\n",
    "print(\"\\n\")\n",
    "print(\"For Array:\", arr15.size* arr15.itemsize)"
   ]
  },
  {
   "cell_type": "code",
   "execution_count": 133,
   "id": "387911f7",
   "metadata": {},
   "outputs": [
    {
     "name": "stdout",
     "output_type": "stream",
     "text": [
      "0.9237115383148193\n",
      "\n",
      "\n",
      "execution Time for Numpy: 0.017699003219604492\n"
     ]
    }
   ],
   "source": [
    "#  for execution time\n",
    "\n",
    "import time\n",
    "import numpy as np\n",
    "\n",
    "x = range(1000000)\n",
    "y = range(1000000, 2000000)\n",
    "\n",
    "start_time = time.time()\n",
    "\n",
    "c = [(x, y) for x, y in zip(x, y)]\n",
    "print(time.time() - start_time)\n",
    "\n",
    "# for numpy arrays\n",
    "\n",
    "print(\"\\n\")\n",
    "s = np.arange(1000000)\n",
    "t = np.arange(1000000, 2000000)\n",
    "\n",
    "start_time = time.time()\n",
    "z = s + t\n",
    "print(\"execution Time for Numpy:\", time.time()- start_time)"
   ]
  },
  {
   "cell_type": "code",
   "execution_count": 135,
   "id": "ae151b12",
   "metadata": {},
   "outputs": [
    {
     "data": {
      "text/plain": [
       "array([[ 0,  1,  2,  3],\n",
       "       [ 4,  5,  6,  7],\n",
       "       [ 8,  9, 10, 11],\n",
       "       [12, 13, 14, 15],\n",
       "       [16, 17, 18, 19],\n",
       "       [20, 21, 22, 23]])"
      ]
     },
     "execution_count": 135,
     "metadata": {},
     "output_type": "execute_result"
    }
   ],
   "source": [
    "arr16 = np.arange(24).reshape(6, 4)\n",
    "arr16"
   ]
  },
  {
   "cell_type": "code",
   "execution_count": 136,
   "id": "41b86356",
   "metadata": {},
   "outputs": [
    {
     "data": {
      "text/plain": [
       "array([[ 8,  9, 10, 11],\n",
       "       [12, 13, 14, 15]])"
      ]
     },
     "execution_count": 136,
     "metadata": {},
     "output_type": "execute_result"
    }
   ],
   "source": [
    "# slicing \n",
    "arr16[2:4]"
   ]
  },
  {
   "cell_type": "code",
   "execution_count": 138,
   "id": "9aad2140",
   "metadata": {},
   "outputs": [
    {
     "data": {
      "text/plain": [
       "array([[ 9, 10],\n",
       "       [13, 14]])"
      ]
     },
     "execution_count": 138,
     "metadata": {},
     "output_type": "execute_result"
    }
   ],
   "source": [
    "arr16[2:4, 1:3]"
   ]
  },
  {
   "cell_type": "code",
   "execution_count": 139,
   "id": "806e40e5",
   "metadata": {},
   "outputs": [
    {
     "data": {
      "text/plain": [
       "array([[18, 19],\n",
       "       [22, 23]])"
      ]
     },
     "execution_count": 139,
     "metadata": {},
     "output_type": "execute_result"
    }
   ],
   "source": [
    "# to find last 4 elements (18, 19, 22, 23)\n",
    "\n",
    "arr16[4:6 , 2:4]"
   ]
  },
  {
   "cell_type": "code",
   "execution_count": 140,
   "id": "1c27c9f1",
   "metadata": {},
   "outputs": [
    {
     "data": {
      "text/plain": [
       "array([[18, 19],\n",
       "       [22, 23]])"
      ]
     },
     "execution_count": 140,
     "metadata": {},
     "output_type": "execute_result"
    }
   ],
   "source": [
    "arr16[4: , 2:]"
   ]
  },
  {
   "cell_type": "code",
   "execution_count": 141,
   "id": "b0bab821",
   "metadata": {},
   "outputs": [
    {
     "data": {
      "text/plain": [
       "array([[ 0,  1,  2,  3],\n",
       "       [ 4,  5,  6,  7],\n",
       "       [ 8,  9, 10, 11],\n",
       "       [12, 13, 14, 15],\n",
       "       [16, 17, 18, 19],\n",
       "       [20, 21, 22, 23]])"
      ]
     },
     "execution_count": 141,
     "metadata": {},
     "output_type": "execute_result"
    }
   ],
   "source": [
    "arr16"
   ]
  },
  {
   "cell_type": "code",
   "execution_count": 142,
   "id": "fd1df2f6",
   "metadata": {},
   "outputs": [
    {
     "name": "stdout",
     "output_type": "stream",
     "text": [
      "0\n",
      "1\n",
      "2\n",
      "3\n",
      "4\n",
      "5\n",
      "6\n",
      "7\n",
      "8\n",
      "9\n",
      "10\n",
      "11\n",
      "12\n",
      "13\n",
      "14\n",
      "15\n",
      "16\n",
      "17\n",
      "18\n",
      "19\n",
      "20\n",
      "21\n",
      "22\n",
      "23\n"
     ]
    }
   ],
   "source": [
    "for i in np.nditer(arr16):\n",
    "    print(i)"
   ]
  },
  {
   "cell_type": "code",
   "execution_count": 146,
   "id": "eb8f546d",
   "metadata": {},
   "outputs": [
    {
     "name": "stdout",
     "output_type": "stream",
     "text": [
      "11.5\n"
     ]
    }
   ],
   "source": [
    "print(arr16.mean())\n"
   ]
  },
  {
   "cell_type": "code",
   "execution_count": 147,
   "id": "aabbbacc",
   "metadata": {},
   "outputs": [
    {
     "data": {
      "text/plain": [
       "np.int64(23)"
      ]
     },
     "execution_count": 147,
     "metadata": {},
     "output_type": "execute_result"
    }
   ],
   "source": [
    "arr16.max()"
   ]
  },
  {
   "cell_type": "code",
   "execution_count": 148,
   "id": "447d3f83",
   "metadata": {},
   "outputs": [
    {
     "data": {
      "text/plain": [
       "np.int64(0)"
      ]
     },
     "execution_count": 148,
     "metadata": {},
     "output_type": "execute_result"
    }
   ],
   "source": [
    "arr16.min()"
   ]
  },
  {
   "cell_type": "code",
   "execution_count": 156,
   "id": "3a8e36e6",
   "metadata": {},
   "outputs": [
    {
     "data": {
      "text/plain": [
       "array([0, 1, 2, 3])"
      ]
     },
     "execution_count": 156,
     "metadata": {},
     "output_type": "execute_result"
    }
   ],
   "source": [
    "# min of each columns\n",
    "\n",
    "arr16.min(axis=0)"
   ]
  },
  {
   "cell_type": "code",
   "execution_count": 157,
   "id": "48a894e6",
   "metadata": {},
   "outputs": [
    {
     "data": {
      "text/plain": [
       "array([20, 21, 22, 23])"
      ]
     },
     "execution_count": 157,
     "metadata": {},
     "output_type": "execute_result"
    }
   ],
   "source": [
    "arr16.max(axis=0)"
   ]
  },
  {
   "cell_type": "code",
   "execution_count": 158,
   "id": "3f11f28e",
   "metadata": {},
   "outputs": [
    {
     "data": {
      "text/plain": [
       "array([ 0,  4,  8, 12, 16, 20])"
      ]
     },
     "execution_count": 158,
     "metadata": {},
     "output_type": "execute_result"
    }
   ],
   "source": [
    "# min of each rows\n",
    "arr16.min(axis=1)"
   ]
  },
  {
   "cell_type": "code",
   "execution_count": 159,
   "id": "569d3803",
   "metadata": {},
   "outputs": [
    {
     "data": {
      "text/plain": [
       "array([ 3,  7, 11, 15, 19, 23])"
      ]
     },
     "execution_count": 159,
     "metadata": {},
     "output_type": "execute_result"
    }
   ],
   "source": [
    "arr16.max(axis=1)"
   ]
  },
  {
   "cell_type": "code",
   "execution_count": 154,
   "id": "deba67f3",
   "metadata": {},
   "outputs": [
    {
     "data": {
      "text/plain": [
       "array([60, 66, 72, 78])"
      ]
     },
     "execution_count": 154,
     "metadata": {},
     "output_type": "execute_result"
    }
   ],
   "source": [
    "# column wise sum \n",
    "arr16.sum(axis=0)"
   ]
  },
  {
   "cell_type": "code",
   "execution_count": 160,
   "id": "4e9cc39c",
   "metadata": {},
   "outputs": [
    {
     "data": {
      "text/plain": [
       "np.float64(6.922186552431729)"
      ]
     },
     "execution_count": 160,
     "metadata": {},
     "output_type": "execute_result"
    }
   ],
   "source": [
    "arr16.std()"
   ]
  },
  {
   "cell_type": "code",
   "execution_count": 161,
   "id": "24b8dcbc",
   "metadata": {},
   "outputs": [
    {
     "data": {
      "text/plain": [
       "np.float64(11.5)"
      ]
     },
     "execution_count": 161,
     "metadata": {},
     "output_type": "execute_result"
    }
   ],
   "source": [
    "np.median(arr16)"
   ]
  },
  {
   "cell_type": "code",
   "execution_count": 162,
   "id": "ec488f85",
   "metadata": {},
   "outputs": [
    {
     "data": {
      "text/plain": [
       "array([[ 0.        ,  0.84147098,  0.90929743,  0.14112001],\n",
       "       [-0.7568025 , -0.95892427, -0.2794155 ,  0.6569866 ],\n",
       "       [ 0.98935825,  0.41211849, -0.54402111, -0.99999021],\n",
       "       [-0.53657292,  0.42016704,  0.99060736,  0.65028784],\n",
       "       [-0.28790332, -0.96139749, -0.75098725,  0.14987721],\n",
       "       [ 0.91294525,  0.83665564, -0.00885131, -0.8462204 ]])"
      ]
     },
     "execution_count": 162,
     "metadata": {},
     "output_type": "execute_result"
    }
   ],
   "source": [
    "np.sin(arr16)"
   ]
  },
  {
   "cell_type": "code",
   "execution_count": 163,
   "id": "a46b7f87",
   "metadata": {},
   "outputs": [
    {
     "data": {
      "text/plain": [
       "array([[1.00000000e+00, 2.71828183e+00, 7.38905610e+00, 2.00855369e+01],\n",
       "       [5.45981500e+01, 1.48413159e+02, 4.03428793e+02, 1.09663316e+03],\n",
       "       [2.98095799e+03, 8.10308393e+03, 2.20264658e+04, 5.98741417e+04],\n",
       "       [1.62754791e+05, 4.42413392e+05, 1.20260428e+06, 3.26901737e+06],\n",
       "       [8.88611052e+06, 2.41549528e+07, 6.56599691e+07, 1.78482301e+08],\n",
       "       [4.85165195e+08, 1.31881573e+09, 3.58491285e+09, 9.74480345e+09]])"
      ]
     },
     "execution_count": 163,
     "metadata": {},
     "output_type": "execute_result"
    }
   ],
   "source": [
    "np.exp(arr16)"
   ]
  },
  {
   "cell_type": "markdown",
   "id": "19933b0f",
   "metadata": {},
   "source": [
    "# Reshaping the numpy arrays \n",
    "\n",
    "1. Ravel\n",
    "2. Reshape\n",
    "3. Transpose\n",
    "4. Stacking\n",
    "5. Splitting"
   ]
  },
  {
   "cell_type": "code",
   "execution_count": null,
   "id": "cda355f5-07dc-4b4d-8ec2-4db840a31748",
   "metadata": {},
   "outputs": [],
   "source": []
  },
  {
   "cell_type": "code",
   "execution_count": 173,
   "id": "4f5da36f-fed3-481d-bc08-2b0e927e3330",
   "metadata": {},
   "outputs": [
    {
     "name": "stderr",
     "output_type": "stream",
     "text": [
      "(Deprecated) Installing extensions with the jupyter labextension install command is now deprecated and will be removed in a future major version of JupyterLab.\n",
      "\n",
      "Users should manage prebuilt extensions with package managers like pip and conda, and extension authors are encouraged to distribute their extensions as prebuilt packages \n",
      "C:\\Users\\psjsi\\DataSC_2023\\envs\\Lib\\site-packages\\jupyterlab\\debuglog.py:54: UserWarning: An error occurred.\n",
      "  warnings.warn(\"An error occurred.\")\n",
      "C:\\Users\\psjsi\\DataSC_2023\\envs\\Lib\\site-packages\\jupyterlab\\debuglog.py:55: UserWarning: ValueError: Please install nodejs >=20.0.0 before continuing. nodejs may be installed using conda or directly from the nodejs website.\n",
      "  warnings.warn(msg[-1].strip())\n",
      "C:\\Users\\psjsi\\DataSC_2023\\envs\\Lib\\site-packages\\jupyterlab\\debuglog.py:56: UserWarning: See the log file for details: C:\\Users\\psjsi\\AppData\\Local\\Temp\\jupyterlab-debug-mo80p0up.log\n",
      "  warnings.warn(f\"See the log file for details: {log_path!s}\")\n"
     ]
    }
   ],
   "source": [
    "# pip install jupyterlab-lsp\n",
    "# !pip install python-lsp-server\n",
    "#!jupyter labextension install @krassowski/jupyterlab-lsp"
   ]
  },
  {
   "cell_type": "code",
   "execution_count": null,
   "id": "0e544c00",
   "metadata": {},
   "outputs": [],
   "source": [
    "\n"
   ]
  }
 ],
 "metadata": {
  "kernelspec": {
   "display_name": "Python 3 (ipykernel)",
   "language": "python",
   "name": "python3"
  },
  "language_info": {
   "codemirror_mode": {
    "name": "ipython",
    "version": 3
   },
   "file_extension": ".py",
   "mimetype": "text/x-python",
   "name": "python",
   "nbconvert_exporter": "python",
   "pygments_lexer": "ipython3",
   "version": "3.12.4"
  }
 },
 "nbformat": 4,
 "nbformat_minor": 5
}
